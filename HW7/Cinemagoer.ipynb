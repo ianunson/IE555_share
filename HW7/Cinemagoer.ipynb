{
 "cells": [
  {
   "cell_type": "code",
   "execution_count": 188,
   "id": "5cd8f486",
   "metadata": {},
   "outputs": [
    {
     "name": "stdout",
     "output_type": "stream",
     "text": [
      "Requirement already satisfied: cinemagoer in c:\\anaconda3\\lib\\site-packages (2022.2.11)\n",
      "Requirement already satisfied: SQLAlchemy in c:\\anaconda3\\lib\\site-packages (from cinemagoer) (1.4.22)\n",
      "Requirement already satisfied: lxml in c:\\anaconda3\\lib\\site-packages (from cinemagoer) (4.6.3)\n",
      "Requirement already satisfied: greenlet!=0.4.17 in c:\\anaconda3\\lib\\site-packages (from SQLAlchemy->cinemagoer) (1.1.1)\n",
      "Note: you may need to restart the kernel to use updated packages.\n"
     ]
    }
   ],
   "source": [
    "pip install cinemagoer"
   ]
  },
  {
   "cell_type": "code",
   "execution_count": 189,
   "id": "37f471bc",
   "metadata": {},
   "outputs": [],
   "source": [
    "import imdb\n",
    "ia = imdb.Cinemagoer()"
   ]
  },
  {
   "cell_type": "code",
   "execution_count": 190,
   "id": "6f583b02",
   "metadata": {},
   "outputs": [],
   "source": [
    "import pandas as pd\n",
    "import numpy as np"
   ]
  },
  {
   "cell_type": "code",
   "execution_count": 191,
   "id": "c1ac1af7",
   "metadata": {},
   "outputs": [
    {
     "data": {
      "text/plain": [
       "[<Movie id:3741834[http] title:_Lion (2016)_>,\n",
       " <Movie id:4685968[http] title:_Lion (III) (2015)_>,\n",
       " <Movie id:0928191[http] title:_Lion (2006)_>,\n",
       " <Movie id:0110357[http] title:_The Lion King (1994)_>,\n",
       " <Movie id:0100029[http] title:_Lionheart (1990)_>,\n",
       " <Movie id:0063385[http] title:_Oliver! (1968)_>,\n",
       " <Movie id:0891527[http] title:_Lions for Lambs (2007)_>,\n",
       " <Movie id:13111078[http] title:_\"Lioness\" (II) (None)_>,\n",
       " <Movie id:4270492[http] title:_\"Billions\" (2016)_>,\n",
       " <Movie id:6105098[http] title:_The Lion King (2019)_>,\n",
       " <Movie id:7660850[http] title:_\"Succession\" (2018)_>,\n",
       " <Movie id:0335345[http] title:_The Passion of the Christ (2004)_>,\n",
       " <Movie id:7767422[http] title:_\"Sex Education\" (2019)_>,\n",
       " <Movie id:7608248[http] title:_\"A Million Little Things\" (2018)_>,\n",
       " <Movie id:8041270[http] title:_Jurassic World Dominion (2022)_>,\n",
       " <Movie id:0363771[http] title:_The Chronicles of Narnia: The Lion, the Witch and the Wardrobe (2005)_>,\n",
       " <Movie id:0111161[http] title:_The Shawshank Redemption (1994)_>,\n",
       " <Movie id:0327137[http] title:_Secondhand Lions (2003)_>,\n",
       " <Movie id:10945288[http] title:_The Wolf and the Lion (2021)_>,\n",
       " <Movie id:10838180[http] title:_The Matrix Resurrections (2021)_>]"
      ]
     },
     "execution_count": 191,
     "metadata": {},
     "output_type": "execute_result"
    }
   ],
   "source": [
    "movies = ia.search_movie('lion')\n",
    "movies"
   ]
  },
  {
   "cell_type": "code",
   "execution_count": 192,
   "id": "cbeba059",
   "metadata": {},
   "outputs": [
    {
     "data": {
      "text/plain": [
       "[<Person id:0001401[http] name:_Angelina Jolie_>,\n",
       " <Person id:1555572[http] name:_Angelina Altishin_>,\n",
       " <Person id:1827177[http] name:_Bentivegna Angelina_>,\n",
       " <Person id:2266551[http] name:_Angelina Assereto_>,\n",
       " <Person id:3739468[http] name:_Angelina Pivarnick_>,\n",
       " <Person id:8755930[http] name:_Angelina Håkansson_>,\n",
       " <Person id:6433618[http] name:_Angelina Capozzoli_>,\n",
       " <Person id:0528748[http] name:_Leni Lynn_>,\n",
       " <Person id:1431940[http] name:_Evangeline Lilly_>,\n",
       " <Person id:0050337[http] name:_Angeline Ball_>,\n",
       " <Person id:7006860[http] name:_Matilda De Angelis_>,\n",
       " <Person id:5871830[http] name:_Morningstar Angeline_>,\n",
       " <Person id:7167277[http] name:_Christina Evangeline_>,\n",
       " <Person id:2512132[http] name:_Angelique Cabral_>,\n",
       " <Person id:4570068[http] name:_Angeline Appel_>,\n",
       " <Person id:0029754[http] name:_Angelyne_>,\n",
       " <Person id:0000765[http] name:_Pier Angeli_>,\n",
       " <Person id:2120241[http] name:_Angelica Ross_>,\n",
       " <Person id:1246238[http] name:_Valentina de Angelis_>,\n",
       " <Person id:3240564[http] name:_Alix Angelis_>]"
      ]
     },
     "execution_count": 192,
     "metadata": {},
     "output_type": "execute_result"
    }
   ],
   "source": [
    "people = ia.search_person('angelina')\n",
    "people"
   ]
  },
  {
   "cell_type": "code",
   "execution_count": 193,
   "id": "dcaa944b",
   "metadata": {},
   "outputs": [
    {
     "data": {
      "text/plain": [
       "[<Movie id:0944947[http] title:_Game of Thrones (2011–2019)) (None)_>,\n",
       " <Movie id:2560140[http] title:_Attack on Titan (2013–2023)) (None)_>,\n",
       " <Movie id:2463208[http] title:_The Adam Project (2022)_>,\n",
       " <Movie id:5715524[http] title:_Mayans M.C. (2018–) (None)_>,\n",
       " <Movie id:2085059[http] title:_Black Mirror (2011–2019)) (None)_>,\n",
       " <Movie id:10327252[http] title:_The Forever Purge (2021)_>,\n",
       " <Movie id:9170108[http] title:_Raised by Wolves (2020–) (None)_>,\n",
       " <Movie id:4154796[http] title:_Avengers: Endgame (2019)_>,\n",
       " <Movie id:7826376[http] title:_Upload (2020–) (None)_>,\n",
       " <Movie id:5834204[http] title:_The Handmaid's Tale (2017–) (None)_>,\n",
       " <Movie id:0816692[http] title:_Interstellar (2014)_>,\n",
       " <Movie id:10838180[http] title:_The Matrix Resurrections (2021)_>,\n",
       " <Movie id:3230854[http] title:_The Expanse (2015–2022)) (None)_>,\n",
       " <Movie id:6156584[http] title:_Snowpiercer (2020–) (None)_>,\n",
       " <Movie id:1856101[http] title:_Blade Runner 2049 (2017)_>,\n",
       " <Movie id:0137523[http] title:_Fight Club (1999)_>,\n",
       " <Movie id:1273221[http] title:_London Fields (2018)_>,\n",
       " <Movie id:1392190[http] title:_Mad Max: Fury Road (2015)_>,\n",
       " <Movie id:1201607[http] title:_Harry Potter and the Deathly Hallows: Part 2 (2011)_>,\n",
       " <Movie id:0120382[http] title:_The Truman Show (1998)_>,\n",
       " <Movie id:1392170[http] title:_The Hunger Games (2012)_>,\n",
       " <Movie id:1677720[http] title:_Ready Player One (2018)_>,\n",
       " <Movie id:0133093[http] title:_The Matrix (1999)_>,\n",
       " <Movie id:0083658[http] title:_Blade Runner (1982)_>,\n",
       " <Movie id:0409459[http] title:_Watchmen (2009)_>,\n",
       " <Movie id:0066921[http] title:_A Clockwork Orange (1971)_>,\n",
       " <Movie id:8050756[http] title:_The Owl House (2020–) (None)_>,\n",
       " <Movie id:0303461[http] title:_Firefly (2002–2003)) (None)_>,\n",
       " <Movie id:0947798[http] title:_Black Swan (2010)_>,\n",
       " <Movie id:3315342[http] title:_Logan (2017)_>,\n",
       " <Movie id:0434409[http] title:_V for Vendetta (2005)_>,\n",
       " <Movie id:1740299[http] title:_The Man in the High Castle (2015–2019)) (None)_>,\n",
       " <Movie id:1276104[http] title:_Looper (2012)_>,\n",
       " <Movie id:9777666[http] title:_The Tomorrow War (2021)_>,\n",
       " <Movie id:0387808[http] title:_Idiocracy (2006)_>,\n",
       " <Movie id:0119116[http] title:_The Fifth Element (1997)_>,\n",
       " <Movie id:1371111[http] title:_Cloud Atlas (2012)_>,\n",
       " <Movie id:3272066[http] title:_Reminiscence (2021)_>,\n",
       " <Movie id:1840309[http] title:_Divergent (2014)_>,\n",
       " <Movie id:2076822[http] title:_Chaos Walking (2021)_>,\n",
       " <Movie id:7737786[http] title:_Greenland (2020)_>,\n",
       " <Movie id:0120201[http] title:_Starship Troopers (1997)_>,\n",
       " <Movie id:11057226[http] title:_DMZ (2022)_>,\n",
       " <Movie id:3464902[http] title:_The Lobster (2015)_>,\n",
       " <Movie id:5109280[http] title:_Raya and the Last Dragon (2021)_>,\n",
       " <Movie id:0489974[http] title:_Carnival Row (2019–) (None)_>,\n",
       " <Movie id:1790864[http] title:_The Maze Runner (2014)_>,\n",
       " <Movie id:0103064[http] title:_Terminator 2: Judgment Day (1991)_>,\n",
       " <Movie id:6644200[http] title:_A Quiet Place (2018)_>,\n",
       " <Movie id:0088247[http] title:_The Terminator (1984)_>]"
      ]
     },
     "execution_count": 193,
     "metadata": {},
     "output_type": "execute_result"
    }
   ],
   "source": [
    "movies_d = ia.get_keyword('dystopia')\n",
    "movies_d"
   ]
  },
  {
   "cell_type": "code",
   "execution_count": 194,
   "id": "c57212f3",
   "metadata": {},
   "outputs": [
    {
     "data": {
      "text/plain": [
       "imdb.Movie.Movie"
      ]
     },
     "execution_count": 194,
     "metadata": {},
     "output_type": "execute_result"
    }
   ],
   "source": [
    "top_m = ia.get_top250_movies()\n",
    "type(top_m[0])"
   ]
  },
  {
   "cell_type": "code",
   "execution_count": 195,
   "id": "d5850b34",
   "metadata": {},
   "outputs": [
    {
     "data": {
      "text/plain": [
       "'0111161'"
      ]
     },
     "execution_count": 195,
     "metadata": {},
     "output_type": "execute_result"
    }
   ],
   "source": [
    "top_m[0].movieID\n",
    "#top_m[0]"
   ]
  },
  {
   "cell_type": "code",
   "execution_count": 196,
   "id": "01e52f1f",
   "metadata": {},
   "outputs": [
    {
     "name": "stdout",
     "output_type": "stream",
     "text": [
      "The Shawshank Redemption\n",
      "Morgan Freeman\n",
      "Ellis Boyd 'Red' Redding\n"
     ]
    }
   ],
   "source": [
    "#movie = ia.get_movie('0137523')\n",
    "movie = ia.get_movie(top_m[0].movieID)\n",
    "print(movie)\n",
    "actor = movie['cast'][1]\n",
    "print(actor)\n",
    "print(actor.currentRole)"
   ]
  },
  {
   "cell_type": "code",
   "execution_count": 197,
   "id": "30571950",
   "metadata": {},
   "outputs": [
    {
     "name": "stdout",
     "output_type": "stream",
     "text": [
      "The Lion King\n",
      "Jeremy Irons\n",
      "Scar\n"
     ]
    }
   ],
   "source": [
    "movie = ia.get_movie('0110357')\n",
    "print(movie)\n",
    "actor = movie['cast'][6]\n",
    "print(actor)\n",
    "print(actor.currentRole)"
   ]
  },
  {
   "cell_type": "code",
   "execution_count": 198,
   "id": "e7dfc49d",
   "metadata": {},
   "outputs": [
    {
     "data": {
      "text/plain": [
       "32"
      ]
     },
     "execution_count": 198,
     "metadata": {},
     "output_type": "execute_result"
    }
   ],
   "source": [
    "len(movie['cast'])"
   ]
  },
  {
   "cell_type": "code",
   "execution_count": 208,
   "id": "404f7022",
   "metadata": {},
   "outputs": [],
   "source": [
    "#np.random.randint(0,len(top_m))\n",
    "#len(top_m)\n",
    "current_ID = top_m[np.random.randint(0,len(top_m))].movieID\n",
    "movie = ia.get_movie(current_ID)\n",
    "actor = movie['cast'][np.random.randint(0,len(movie['cast']))]"
   ]
  },
  {
   "cell_type": "code",
   "execution_count": 209,
   "id": "e9b16ce3",
   "metadata": {},
   "outputs": [
    {
     "name": "stdout",
     "output_type": "stream",
     "text": [
      "In the movie: \"Schindler's List\" the role of \"Nuisa Horowitz\" is played by \"____________\".\n"
     ]
    }
   ],
   "source": [
    "#print(movie)\n",
    "#print(\"In the movie: \\\"\" + movie['title'] + \"\\\" the role of \\\"\" + actor.currentRole['name'] + \"\\\" is played by \\\"\" + actor['name'] + \"\\\".\")\n",
    "print(\"In the movie: \\\"\" + movie['title'] + \"\\\" the role of \\\"\" + actor.currentRole['name'] + \"\\\" is played by \\\"\" + \"____________\" + \"\\\".\")\n",
    "#print(movie,actor,actor.currentRole)"
   ]
  },
  {
   "cell_type": "code",
   "execution_count": 210,
   "id": "f1662c19",
   "metadata": {},
   "outputs": [
    {
     "name": "stdout",
     "output_type": "stream",
     "text": [
      "[163, 121, 88]\n"
     ]
    }
   ],
   "source": [
    "#get random values for selecting other answers /generate\n",
    "from random import randint\n",
    "othervalues = [randint(0, 249), randint(0, 249), randint(0, 249)]\n",
    "print(othervalues)"
   ]
  },
  {
   "cell_type": "code",
   "execution_count": 211,
   "id": "da456c05",
   "metadata": {},
   "outputs": [
    {
     "name": "stdout",
     "output_type": "stream",
     "text": [
      "\" 0347149 \" 8579674 \" 0105236\n"
     ]
    }
   ],
   "source": [
    "#calling out other movies based on random generated \n",
    "othermovie1=top_m[othervalues[0]].movieID\n",
    "othermovie2=top_m[othervalues[1]].movieID\n",
    "othermovie3=top_m[othervalues[2]].movieID\n",
    "print('\"', othermovie1,'\"', othermovie2,'\"', othermovie3)"
   ]
  },
  {
   "cell_type": "code",
   "execution_count": 212,
   "id": "e10aa1e7",
   "metadata": {},
   "outputs": [
    {
     "name": "stdout",
     "output_type": "stream",
     "text": [
      "Takuya Kimura George MacKay Tim Roth\n"
     ]
    }
   ],
   "source": [
    "#call actors of those movies\n",
    "#top_m[].movieID\n",
    "\n",
    "otheractor1=ia.get_movie(othermovie1)['cast'][1]\n",
    "otheractor2=ia.get_movie(othermovie2)['cast'][1]\n",
    "otheractor3=ia.get_movie(othermovie3)['cast'][1]\n",
    "print(otheractor1, otheractor2, otheractor3)"
   ]
  },
  {
   "cell_type": "code",
   "execution_count": 213,
   "id": "02f32c06",
   "metadata": {},
   "outputs": [],
   "source": [
    "otheractor1 = otheractor1['name']\n",
    "otheractor2 = otheractor2['name']\n",
    "otheractor3 = otheractor3['name']"
   ]
  },
  {
   "cell_type": "code",
   "execution_count": 214,
   "id": "e0f6d157",
   "metadata": {},
   "outputs": [
    {
     "name": "stdout",
     "output_type": "stream",
     "text": [
      "A) George MacKay\n",
      "B) Tim Roth\n",
      "C) Magdalena Dandourian\n",
      "D) Takuya Kimura\n"
     ]
    }
   ],
   "source": [
    "# otheractor1 = \"wrong1\"\n",
    "# otheractor2 = \"wrong2\"\n",
    "# otheractor3 = \"wrong3\"\n",
    "correctA = actor['name']\n",
    "answers = [correctA,otheractor1,otheractor2,otheractor3]\n",
    "mix = list(answers)\n",
    "ABCD = ['A','B','C','D']\n",
    "np.random.shuffle(mix)\n",
    "for i in range(4):\n",
    "    print(ABCD[i] + \") \" + mix[i])\n"
   ]
  },
  {
   "cell_type": "code",
   "execution_count": 215,
   "id": "fe9bb1e5",
   "metadata": {},
   "outputs": [
    {
     "name": "stdout",
     "output_type": "stream",
     "text": [
      "Type in the letter (case sensitive) of the correct answer:\n",
      "C\n",
      "Correct!! You did it!!\n"
     ]
    }
   ],
   "source": [
    "print(\"Type in the letter (case sensitive) of the correct answer:\")\n",
    "input1 = input()\n",
    "ABCD.index(input1)\n",
    "#print(mix[ABCD.index(input1)])\n",
    "#mix[ABCD.index(input1)] == correctA\n",
    "if mix[ABCD.index(input1)] == correctA:\n",
    "    print(\"Correct!! You did it!!\")\n",
    "else:\n",
    "    print(\"Oh no. Try Again.\")"
   ]
  }
 ],
 "metadata": {
  "kernelspec": {
   "display_name": "Python 3 (ipykernel)",
   "language": "python",
   "name": "python3"
  },
  "language_info": {
   "codemirror_mode": {
    "name": "ipython",
    "version": 3
   },
   "file_extension": ".py",
   "mimetype": "text/x-python",
   "name": "python",
   "nbconvert_exporter": "python",
   "pygments_lexer": "ipython3",
   "version": "3.9.7"
  }
 },
 "nbformat": 4,
 "nbformat_minor": 5
}
